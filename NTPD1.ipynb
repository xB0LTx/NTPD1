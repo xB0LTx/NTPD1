{
 "cells": [
  {
   "cell_type": "markdown",
   "source": [
    "# Zadanie 1"
   ],
   "metadata": {
    "collapsed": false
   },
   "id": "d1331d6b738b47b3"
  },
  {
   "cell_type": "code",
   "source": [
    "#1.\n",
    "import numpy as np\n",
    "import pandas as pd\n",
    "import sklearn as skl"
   ],
   "metadata": {
    "collapsed": false,
    "ExecuteTime": {
     "end_time": "2025-03-05T09:58:27.672191Z",
     "start_time": "2025-03-05T09:58:27.668129Z"
    }
   },
   "id": "89f72dd770bc6c38",
   "outputs": [],
   "execution_count": 63
  },
  {
   "metadata": {
    "ExecuteTime": {
     "end_time": "2025-03-05T09:58:28.164471Z",
     "start_time": "2025-03-05T09:58:28.158289Z"
    }
   },
   "cell_type": "code",
   "source": [
    "#2.\n",
    "iris = skl.datasets.load_iris() # załadowanie zbioru danych"
   ],
   "id": "1b3c46698fb554e3",
   "outputs": [],
   "execution_count": 64
  },
  {
   "metadata": {
    "ExecuteTime": {
     "end_time": "2025-03-05T09:58:28.558341Z",
     "start_time": "2025-03-05T09:58:28.550379Z"
    }
   },
   "cell_type": "code",
   "source": [
    "#3.\n",
    "iris.data # dane"
   ],
   "id": "a5685ede093a6d7",
   "outputs": [
    {
     "data": {
      "text/plain": [
       "array([[5.1, 3.5, 1.4, 0.2],\n",
       "       [4.9, 3. , 1.4, 0.2],\n",
       "       [4.7, 3.2, 1.3, 0.2],\n",
       "       [4.6, 3.1, 1.5, 0.2],\n",
       "       [5. , 3.6, 1.4, 0.2],\n",
       "       [5.4, 3.9, 1.7, 0.4],\n",
       "       [4.6, 3.4, 1.4, 0.3],\n",
       "       [5. , 3.4, 1.5, 0.2],\n",
       "       [4.4, 2.9, 1.4, 0.2],\n",
       "       [4.9, 3.1, 1.5, 0.1],\n",
       "       [5.4, 3.7, 1.5, 0.2],\n",
       "       [4.8, 3.4, 1.6, 0.2],\n",
       "       [4.8, 3. , 1.4, 0.1],\n",
       "       [4.3, 3. , 1.1, 0.1],\n",
       "       [5.8, 4. , 1.2, 0.2],\n",
       "       [5.7, 4.4, 1.5, 0.4],\n",
       "       [5.4, 3.9, 1.3, 0.4],\n",
       "       [5.1, 3.5, 1.4, 0.3],\n",
       "       [5.7, 3.8, 1.7, 0.3],\n",
       "       [5.1, 3.8, 1.5, 0.3],\n",
       "       [5.4, 3.4, 1.7, 0.2],\n",
       "       [5.1, 3.7, 1.5, 0.4],\n",
       "       [4.6, 3.6, 1. , 0.2],\n",
       "       [5.1, 3.3, 1.7, 0.5],\n",
       "       [4.8, 3.4, 1.9, 0.2],\n",
       "       [5. , 3. , 1.6, 0.2],\n",
       "       [5. , 3.4, 1.6, 0.4],\n",
       "       [5.2, 3.5, 1.5, 0.2],\n",
       "       [5.2, 3.4, 1.4, 0.2],\n",
       "       [4.7, 3.2, 1.6, 0.2],\n",
       "       [4.8, 3.1, 1.6, 0.2],\n",
       "       [5.4, 3.4, 1.5, 0.4],\n",
       "       [5.2, 4.1, 1.5, 0.1],\n",
       "       [5.5, 4.2, 1.4, 0.2],\n",
       "       [4.9, 3.1, 1.5, 0.2],\n",
       "       [5. , 3.2, 1.2, 0.2],\n",
       "       [5.5, 3.5, 1.3, 0.2],\n",
       "       [4.9, 3.6, 1.4, 0.1],\n",
       "       [4.4, 3. , 1.3, 0.2],\n",
       "       [5.1, 3.4, 1.5, 0.2],\n",
       "       [5. , 3.5, 1.3, 0.3],\n",
       "       [4.5, 2.3, 1.3, 0.3],\n",
       "       [4.4, 3.2, 1.3, 0.2],\n",
       "       [5. , 3.5, 1.6, 0.6],\n",
       "       [5.1, 3.8, 1.9, 0.4],\n",
       "       [4.8, 3. , 1.4, 0.3],\n",
       "       [5.1, 3.8, 1.6, 0.2],\n",
       "       [4.6, 3.2, 1.4, 0.2],\n",
       "       [5.3, 3.7, 1.5, 0.2],\n",
       "       [5. , 3.3, 1.4, 0.2],\n",
       "       [7. , 3.2, 4.7, 1.4],\n",
       "       [6.4, 3.2, 4.5, 1.5],\n",
       "       [6.9, 3.1, 4.9, 1.5],\n",
       "       [5.5, 2.3, 4. , 1.3],\n",
       "       [6.5, 2.8, 4.6, 1.5],\n",
       "       [5.7, 2.8, 4.5, 1.3],\n",
       "       [6.3, 3.3, 4.7, 1.6],\n",
       "       [4.9, 2.4, 3.3, 1. ],\n",
       "       [6.6, 2.9, 4.6, 1.3],\n",
       "       [5.2, 2.7, 3.9, 1.4],\n",
       "       [5. , 2. , 3.5, 1. ],\n",
       "       [5.9, 3. , 4.2, 1.5],\n",
       "       [6. , 2.2, 4. , 1. ],\n",
       "       [6.1, 2.9, 4.7, 1.4],\n",
       "       [5.6, 2.9, 3.6, 1.3],\n",
       "       [6.7, 3.1, 4.4, 1.4],\n",
       "       [5.6, 3. , 4.5, 1.5],\n",
       "       [5.8, 2.7, 4.1, 1. ],\n",
       "       [6.2, 2.2, 4.5, 1.5],\n",
       "       [5.6, 2.5, 3.9, 1.1],\n",
       "       [5.9, 3.2, 4.8, 1.8],\n",
       "       [6.1, 2.8, 4. , 1.3],\n",
       "       [6.3, 2.5, 4.9, 1.5],\n",
       "       [6.1, 2.8, 4.7, 1.2],\n",
       "       [6.4, 2.9, 4.3, 1.3],\n",
       "       [6.6, 3. , 4.4, 1.4],\n",
       "       [6.8, 2.8, 4.8, 1.4],\n",
       "       [6.7, 3. , 5. , 1.7],\n",
       "       [6. , 2.9, 4.5, 1.5],\n",
       "       [5.7, 2.6, 3.5, 1. ],\n",
       "       [5.5, 2.4, 3.8, 1.1],\n",
       "       [5.5, 2.4, 3.7, 1. ],\n",
       "       [5.8, 2.7, 3.9, 1.2],\n",
       "       [6. , 2.7, 5.1, 1.6],\n",
       "       [5.4, 3. , 4.5, 1.5],\n",
       "       [6. , 3.4, 4.5, 1.6],\n",
       "       [6.7, 3.1, 4.7, 1.5],\n",
       "       [6.3, 2.3, 4.4, 1.3],\n",
       "       [5.6, 3. , 4.1, 1.3],\n",
       "       [5.5, 2.5, 4. , 1.3],\n",
       "       [5.5, 2.6, 4.4, 1.2],\n",
       "       [6.1, 3. , 4.6, 1.4],\n",
       "       [5.8, 2.6, 4. , 1.2],\n",
       "       [5. , 2.3, 3.3, 1. ],\n",
       "       [5.6, 2.7, 4.2, 1.3],\n",
       "       [5.7, 3. , 4.2, 1.2],\n",
       "       [5.7, 2.9, 4.2, 1.3],\n",
       "       [6.2, 2.9, 4.3, 1.3],\n",
       "       [5.1, 2.5, 3. , 1.1],\n",
       "       [5.7, 2.8, 4.1, 1.3],\n",
       "       [6.3, 3.3, 6. , 2.5],\n",
       "       [5.8, 2.7, 5.1, 1.9],\n",
       "       [7.1, 3. , 5.9, 2.1],\n",
       "       [6.3, 2.9, 5.6, 1.8],\n",
       "       [6.5, 3. , 5.8, 2.2],\n",
       "       [7.6, 3. , 6.6, 2.1],\n",
       "       [4.9, 2.5, 4.5, 1.7],\n",
       "       [7.3, 2.9, 6.3, 1.8],\n",
       "       [6.7, 2.5, 5.8, 1.8],\n",
       "       [7.2, 3.6, 6.1, 2.5],\n",
       "       [6.5, 3.2, 5.1, 2. ],\n",
       "       [6.4, 2.7, 5.3, 1.9],\n",
       "       [6.8, 3. , 5.5, 2.1],\n",
       "       [5.7, 2.5, 5. , 2. ],\n",
       "       [5.8, 2.8, 5.1, 2.4],\n",
       "       [6.4, 3.2, 5.3, 2.3],\n",
       "       [6.5, 3. , 5.5, 1.8],\n",
       "       [7.7, 3.8, 6.7, 2.2],\n",
       "       [7.7, 2.6, 6.9, 2.3],\n",
       "       [6. , 2.2, 5. , 1.5],\n",
       "       [6.9, 3.2, 5.7, 2.3],\n",
       "       [5.6, 2.8, 4.9, 2. ],\n",
       "       [7.7, 2.8, 6.7, 2. ],\n",
       "       [6.3, 2.7, 4.9, 1.8],\n",
       "       [6.7, 3.3, 5.7, 2.1],\n",
       "       [7.2, 3.2, 6. , 1.8],\n",
       "       [6.2, 2.8, 4.8, 1.8],\n",
       "       [6.1, 3. , 4.9, 1.8],\n",
       "       [6.4, 2.8, 5.6, 2.1],\n",
       "       [7.2, 3. , 5.8, 1.6],\n",
       "       [7.4, 2.8, 6.1, 1.9],\n",
       "       [7.9, 3.8, 6.4, 2. ],\n",
       "       [6.4, 2.8, 5.6, 2.2],\n",
       "       [6.3, 2.8, 5.1, 1.5],\n",
       "       [6.1, 2.6, 5.6, 1.4],\n",
       "       [7.7, 3. , 6.1, 2.3],\n",
       "       [6.3, 3.4, 5.6, 2.4],\n",
       "       [6.4, 3.1, 5.5, 1.8],\n",
       "       [6. , 3. , 4.8, 1.8],\n",
       "       [6.9, 3.1, 5.4, 2.1],\n",
       "       [6.7, 3.1, 5.6, 2.4],\n",
       "       [6.9, 3.1, 5.1, 2.3],\n",
       "       [5.8, 2.7, 5.1, 1.9],\n",
       "       [6.8, 3.2, 5.9, 2.3],\n",
       "       [6.7, 3.3, 5.7, 2.5],\n",
       "       [6.7, 3. , 5.2, 2.3],\n",
       "       [6.3, 2.5, 5. , 1.9],\n",
       "       [6.5, 3. , 5.2, 2. ],\n",
       "       [6.2, 3.4, 5.4, 2.3],\n",
       "       [5.9, 3. , 5.1, 1.8]])"
      ]
     },
     "execution_count": 65,
     "metadata": {},
     "output_type": "execute_result"
    }
   ],
   "execution_count": 65
  },
  {
   "metadata": {
    "ExecuteTime": {
     "end_time": "2025-03-05T09:58:29.033724Z",
     "start_time": "2025-03-05T09:58:29.028429Z"
    }
   },
   "cell_type": "code",
   "source": "iris.data.dtype #",
   "id": "2cbca350b8978b08",
   "outputs": [
    {
     "data": {
      "text/plain": [
       "dtype('float64')"
      ]
     },
     "execution_count": 66,
     "metadata": {},
     "output_type": "execute_result"
    }
   ],
   "execution_count": 66
  },
  {
   "metadata": {
    "ExecuteTime": {
     "end_time": "2025-03-05T09:58:29.594952Z",
     "start_time": "2025-03-05T09:58:29.587911Z"
    }
   },
   "cell_type": "code",
   "source": "iris.target # etykiety",
   "id": "4e7112d2ff939057",
   "outputs": [
    {
     "data": {
      "text/plain": [
       "array([0, 0, 0, 0, 0, 0, 0, 0, 0, 0, 0, 0, 0, 0, 0, 0, 0, 0, 0, 0, 0, 0,\n",
       "       0, 0, 0, 0, 0, 0, 0, 0, 0, 0, 0, 0, 0, 0, 0, 0, 0, 0, 0, 0, 0, 0,\n",
       "       0, 0, 0, 0, 0, 0, 1, 1, 1, 1, 1, 1, 1, 1, 1, 1, 1, 1, 1, 1, 1, 1,\n",
       "       1, 1, 1, 1, 1, 1, 1, 1, 1, 1, 1, 1, 1, 1, 1, 1, 1, 1, 1, 1, 1, 1,\n",
       "       1, 1, 1, 1, 1, 1, 1, 1, 1, 1, 1, 1, 2, 2, 2, 2, 2, 2, 2, 2, 2, 2,\n",
       "       2, 2, 2, 2, 2, 2, 2, 2, 2, 2, 2, 2, 2, 2, 2, 2, 2, 2, 2, 2, 2, 2,\n",
       "       2, 2, 2, 2, 2, 2, 2, 2, 2, 2, 2, 2, 2, 2, 2, 2, 2, 2])"
      ]
     },
     "execution_count": 67,
     "metadata": {},
     "output_type": "execute_result"
    }
   ],
   "execution_count": 67
  },
  {
   "metadata": {
    "ExecuteTime": {
     "end_time": "2025-03-05T09:58:30.026504Z",
     "start_time": "2025-03-05T09:58:30.021168Z"
    }
   },
   "cell_type": "code",
   "source": "iris.target.dtype # typ etykiet",
   "id": "2ca40cfb889343f7",
   "outputs": [
    {
     "data": {
      "text/plain": [
       "dtype('int64')"
      ]
     },
     "execution_count": 68,
     "metadata": {},
     "output_type": "execute_result"
    }
   ],
   "execution_count": 68
  },
  {
   "metadata": {},
   "cell_type": "markdown",
   "source": "# Zadanie 2",
   "id": "48238b6fbeab8310"
  },
  {
   "metadata": {
    "ExecuteTime": {
     "end_time": "2025-03-05T09:58:31.172533Z",
     "start_time": "2025-03-05T09:58:31.166382Z"
    }
   },
   "cell_type": "code",
   "source": [
    "#1.\n",
    "X = iris.data\n",
    "y = iris.target\n",
    "X_train, X_test, y_train, y_test = skl.model_selection.train_test_split( # podział danych na zbiór treningowy i testowy.\n",
    "    X, y, test_size=0.3, random_state=42\n",
    ")\n",
    "sc = skl.preprocessing.StandardScaler()\n",
    "X_train = sc.fit_transform(X_train)\n",
    "X_test = sc.transform(X_test)"
   ],
   "id": "8758d2e49ccca341",
   "outputs": [],
   "execution_count": 69
  },
  {
   "metadata": {
    "ExecuteTime": {
     "end_time": "2025-03-05T09:58:31.692049Z",
     "start_time": "2025-03-05T09:58:31.688151Z"
    }
   },
   "cell_type": "code",
   "source": [
    "#2.\n",
    "model = skl.ensemble.RandomForestClassifier(\n",
    "    n_estimators=10,\n",
    "    criterion='entropy',\n",
    "    random_state=0\n",
    ")\n"
   ],
   "id": "5d2eda53695070b6",
   "outputs": [],
   "execution_count": 70
  },
  {
   "metadata": {
    "ExecuteTime": {
     "end_time": "2025-03-05T09:58:32.231754Z",
     "start_time": "2025-03-05T09:58:32.207834Z"
    }
   },
   "cell_type": "code",
   "source": [
    "#3.\n",
    "model.fit(X_train, y_train) # trenowanie modelu\n",
    "y_pred = model.predict(X_test) # testowanie modelu\n",
    "skl.metrics.accuracy_score(y_test, y_pred)  # accuracy"
   ],
   "id": "31b668147d0c0880",
   "outputs": [
    {
     "data": {
      "text/plain": [
       "1.0"
      ]
     },
     "execution_count": 71,
     "metadata": {},
     "output_type": "execute_result"
    }
   ],
   "execution_count": 71
  },
  {
   "metadata": {
    "ExecuteTime": {
     "end_time": "2025-03-05T09:58:32.714834Z",
     "start_time": "2025-03-05T09:58:32.705812Z"
    }
   },
   "cell_type": "code",
   "source": "skl.metrics.precision_score(y_test, y_pred, average='weighted') # precision",
   "id": "d2fff8e47d3a8d9f",
   "outputs": [
    {
     "data": {
      "text/plain": [
       "1.0"
      ]
     },
     "execution_count": 72,
     "metadata": {},
     "output_type": "execute_result"
    }
   ],
   "execution_count": 72
  },
  {
   "metadata": {
    "ExecuteTime": {
     "end_time": "2025-03-05T09:58:33.199288Z",
     "start_time": "2025-03-05T09:58:33.191265Z"
    }
   },
   "cell_type": "code",
   "source": "skl.metrics.recall_score(y_test, y_pred, average='weighted') # recall",
   "id": "ad7017b308515af6",
   "outputs": [
    {
     "data": {
      "text/plain": [
       "1.0"
      ]
     },
     "execution_count": 73,
     "metadata": {},
     "output_type": "execute_result"
    }
   ],
   "execution_count": 73
  },
  {
   "metadata": {
    "ExecuteTime": {
     "end_time": "2025-03-05T09:58:33.764365Z",
     "start_time": "2025-03-05T09:58:33.756312Z"
    }
   },
   "cell_type": "code",
   "source": "skl.metrics.f1_score(y_test, y_pred, average='weighted') # f1 score",
   "id": "f80884aec58f8129",
   "outputs": [
    {
     "data": {
      "text/plain": [
       "1.0"
      ]
     },
     "execution_count": 74,
     "metadata": {},
     "output_type": "execute_result"
    }
   ],
   "execution_count": 74
  },
  {
   "metadata": {},
   "cell_type": "markdown",
   "source": "Model jest przeuczony.",
   "id": "bdbc2be1ab641dff"
  },
  {
   "metadata": {},
   "cell_type": "markdown",
   "source": "# Zadanie 3",
   "id": "22cfa7bd7596ac29"
  },
  {
   "metadata": {
    "ExecuteTime": {
     "end_time": "2025-03-05T10:02:47.357110Z",
     "start_time": "2025-03-05T10:02:47.350256Z"
    }
   },
   "cell_type": "code",
   "source": [
    "import pickle\n",
    "\n",
    "#1.\n",
    "with open('random_forest_classifier.pkl', 'wb') as file:\n",
    "    pickle.dump(model, file)"
   ],
   "id": "eed7bee9c78f86e",
   "outputs": [],
   "execution_count": 75
  },
  {
   "metadata": {},
   "cell_type": "markdown",
   "source": "# Zadanie 5",
   "id": "ac830230d26f8189"
  },
  {
   "metadata": {},
   "cell_type": "markdown",
   "source": [
    "## Różnice i wyzwania przy wdrażaniu modelu ML w środowisku produkcyjnym w porównaniu do środowiska deweloperskiego\n",
    "\n",
    "\n",
    "### Monitorowanie modelu w produkcji:\n",
    "\n",
    "\n",
    "Wyzwanie: W środowisku produkcyjnym konieczne jest ciągłe monitorowanie wydajności modelu, aby wykrywać spadki jakości predykcji.\n",
    "\n",
    "Rozwiązanie: Implementacja systemów monitorowania, takich jak Prometheus i Grafana, które mogą śledzić metryki modelu (np. dokładność, precyzja, recall) oraz alertować w przypadku anomalii.\n",
    "\n",
    "\n",
    "### Retraining (ponowne trenowanie):\n",
    "\n",
    "\n",
    "Wyzwanie: Modele mogą tracić na dokładności z czasem z powodu zmieniających się danych (drift danych).\n",
    "\n",
    "Rozwiązanie: Automatyzacja procesu retrainingu poprzez harmonogramowanie zadań (np. za pomocą Airflow) oraz wykorzystanie CI/CD do wdrażania zaktualizowanych modeli.\n",
    "\n",
    "\n",
    "### Zarządzanie zależnościami:\n",
    "\n",
    "\n",
    "Wyzwanie: W środowisku produkcyjnym konieczne jest zarządzanie wersjami bibliotek i zależności, aby zapewnić stabilność i spójność.\n",
    "\n",
    "Rozwiązanie: Użycie narzędzi takich jak Docker do konteneryzacji aplikacji, co pozwala na izolację środowiska i łatwe zarządzanie zależnościami.\n",
    "\n",
    "\n",
    "### Automatyzacja wdrożeń:\n",
    "\n",
    "\n",
    "Wyzwanie: Ręczne wdrażanie modeli jest podatne na błędy i nieefektywne.\n",
    "\n",
    "Rozwiązanie: Implementacja pipeline'ów CI/CD (np. Jenkins, GitHub Actions) do automatyzacji procesu wdrażania, testowania i monitorowania modeli."
   ],
   "id": "35184efbd873b4c7"
  },
  {
   "metadata": {},
   "cell_type": "code",
   "outputs": [],
   "execution_count": null,
   "source": "",
   "id": "bd3e3d81d08c8dbf"
  }
 ],
 "metadata": {
  "kernelspec": {
   "display_name": "Python 3",
   "language": "python",
   "name": "python3"
  },
  "language_info": {
   "codemirror_mode": {
    "name": "ipython",
    "version": 2
   },
   "file_extension": ".py",
   "mimetype": "text/x-python",
   "name": "python",
   "nbconvert_exporter": "python",
   "pygments_lexer": "ipython2",
   "version": "2.7.6"
  }
 },
 "nbformat": 4,
 "nbformat_minor": 5
}
